{
 "cells": [
  {
   "cell_type": "code",
   "execution_count": 46,
   "metadata": {},
   "outputs": [],
   "source": [
    "INTERDEADLINE_SIGMA = 6\n",
    "\n",
    "import numpy as np\n",
    "\n",
    "def get_interdeadline_periods(tasks, clients_cnt: int):\n",
    "    res = {}\n",
    "    for ft in tasks:\n",
    "        task_mean = ft.interdeadline_time_sec  # task's characteristics\n",
    "        client_means = np.linspace(task_mean, task_mean, 1)\n",
    "        for cl_id, cl_m in enumerate(client_means):\n",
    "\n",
    "            interdeadline_periods = np.random.normal(loc=cl_m, \n",
    "                                                     scale=INTERDEADLINE_SIGMA, \n",
    "                                                     size=10).round(1)\n",
    "            if cl_id not in res:\n",
    "                res[cl_id] = {}\n",
    "            res[cl_id][ft.id] = interdeadline_periods\n",
    "    return res"
   ]
  },
  {
   "cell_type": "code",
   "execution_count": 47,
   "metadata": {},
   "outputs": [],
   "source": [
    "class Task:\n",
    "    def __init__(self, id: int, interdeadline_time_sec: float):\n",
    "        self.id = id\n",
    "        self.interdeadline_time_sec = interdeadline_time_sec\n",
    "        \n",
    "tasks = [\n",
    "    Task(0, 12),\n",
    "    Task(1, 15),\n",
    "    Task(2, 18),\n",
    "]\n",
    "\n",
    "interdeadline_periods = get_interdeadline_periods(tasks, clients_cnt=3)"
   ]
  },
  {
   "cell_type": "code",
   "execution_count": 48,
   "metadata": {},
   "outputs": [
    {
     "data": {
      "text/plain": [
       "{0: {0: array([13.3, 16.1, 10.7,  7.8,  4.4,  4.4, 10.1,  6. ,  5.5, 11.3]),\n",
       "  1: array([21.7, 11.7, 23.1,  6.7, 30. , 13.9, 22.8, 15.7, 15.6, 29.6]),\n",
       "  2: array([19.2, 14.3, 23.1, 15.8, 16.4, 23. , 20.7, 24.4, 18.3, 14. ])}}"
      ]
     },
     "execution_count": 48,
     "metadata": {},
     "output_type": "execute_result"
    }
   ],
   "source": [
    "interdeadline_periods"
   ]
  },
  {
   "cell_type": "code",
   "execution_count": null,
   "metadata": {},
   "outputs": [],
   "source": []
  },
  {
   "cell_type": "code",
   "execution_count": null,
   "metadata": {},
   "outputs": [],
   "source": []
  },
  {
   "cell_type": "code",
   "execution_count": null,
   "metadata": {},
   "outputs": [],
   "source": []
  }
 ],
 "metadata": {
  "kernelspec": {
   "display_name": "Python 3",
   "language": "python",
   "name": "python3"
  },
  "language_info": {
   "codemirror_mode": {
    "name": "ipython",
    "version": 3
   },
   "file_extension": ".py",
   "mimetype": "text/x-python",
   "name": "python",
   "nbconvert_exporter": "python",
   "pygments_lexer": "ipython3",
   "version": "3.10.12"
  }
 },
 "nbformat": 4,
 "nbformat_minor": 2
}
