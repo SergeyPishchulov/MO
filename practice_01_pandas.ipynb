{
  "cells": [
    {
      "cell_type": "markdown",
      "metadata": {
        "id": "HcF9My_FhLuk"
      },
      "source": [
        "## Технологии машинного обучения\n",
        "\n",
        "## Практическая 1. Введение в Pandas\n",
        "\n"
      ]
    },
    {
      "cell_type": "markdown",
      "metadata": {
        "id": "G64TptyJhLuo"
      },
      "source": [
        "### О задании\n",
        "\n",
        "Задание состоит из двух разделов, посвященных работе с табличными данными с помощью библиотеки pandas и визуализации с помощью matplotlib. В **первом разделе** вам предстоит выполнить базовые задания с помощью вышеуказанных библиотек, а во **втором разделе** распределить студентов по курсам.\n",
        "\n",
        "Задание направлено на освоение jupyter notebook, библиотек pandas и matplotlib.\n",
        "\n",
        "### Оценивание и штрафы\n",
        "Каждая из задач имеет определенную «стоимость» (указана в скобках около задачи). Максимально допустимая оценка за работу — 10 баллов. Проверяющий имеет право снизить оценку за неэффективную реализацию или неопрятные графики.\n",
        "\n",
        "**Обратите внимание**, что в каждом разделе практического задания есть оцениваниемые задачи и есть вопросы. Вопросы дополняют задачи и направлены на то, чтобы проинтерпретировать или обосновать происходящее. Код без интерпретации не имеет смысла, поэтому отвечать на вопросы обязательно — за отсутствие ответов мы будем снижать баллы за задачи.\n"
      ]
    },
    {
      "cell_type": "markdown",
      "metadata": {
        "id": "BaXlfHE_hLup"
      },
      "source": [
        "## 0. Введение"
      ]
    },
    {
      "cell_type": "markdown",
      "metadata": {
        "id": "wirAvJNxhLup"
      },
      "source": [
        "Сейчас мы находимся в jupyter-ноутбуке на онлайн платформе Google Colab. Это удобная среда для написания кода, проведения экспериментов, изучения данных, построения визуализаций и других нужд, не связанных с написанием production-кода. Google Colab уже обеспечивает наше окружение почти всеми необходимыми библиотеками и поэтому в большинстве случаев ничего устанавливать дополнительно не будет нужно.\n",
        "\n",
        "При использовании вы увидете много сходств с jupyter ноутбуком. Одним из преимуществ является доступность GPU, соответствующую опцию можно активировать в настройках сервиса. При желании вы сможете найти в интернете много туториалов по использованию или разобраться самостоятельно =)\n",
        "\n",
        "Для справки, jupyter-ноутбук в Google Colab запущен на виртуальной машине под управлением ОС Ubuntu. Из ячеек кода ноутбука можно передавать напрямую команды bash операционной системе через восклицательный знак:\n",
        "\n",
        "```\n",
        "!<your command>\n",
        "```\n",
        "\n",
        "Таким образом можно устанавливать дополнительные пакеты Python, которых нет в данном окружении по умолчанию.\n",
        "\n",
        "Ноутбук состоит из ячеек, каждая из которых может быть либо ячейкой с кодом, либо ячейкой с текстом размеченным и неразмеченным. Текст поддерживает markdown-разметку и формулы в Latex.\n",
        "\n",
        "Для работы с содержимым ячейки используется *режим редактирования* (*Edit mode*, включается нажатием клавиши **Enter** после выбора ячейки), а для навигации между ячейками искользуется *командный режим* (*Command mode*, включается нажатием клавиши **Esc**). Тип ячейки можно задать в командном режиме либо с помощью горячих клавиш (**y** to code, **m** to markdown, **r** to edit raw text), либо в меню *Cell -> Cell type*.\n",
        "\n",
        "После заполнения ячейки нужно нажать *Shift + Enter*, эта команда обработает содержимое ячейки: проинтерпретирует код или сверстает размеченный текст."
      ]
    },
    {
      "cell_type": "code",
      "execution_count": 1,
      "metadata": {
        "colab": {
          "base_uri": "https://localhost:8080/"
        },
        "id": "aQ2_j3nkhLuq",
        "outputId": "23478607-c162-41e8-ade4-cd2a1f422a14"
      },
      "outputs": [
        {
          "data": {
            "text/plain": [
              "4"
            ]
          },
          "execution_count": 1,
          "metadata": {},
          "output_type": "execute_result"
        }
      ],
      "source": [
        "# ячейка с кодом, при выполнении которой появится output\n",
        "2 + 2"
      ]
    },
    {
      "cell_type": "code",
      "execution_count": 2,
      "metadata": {},
      "outputs": [],
      "source": [
        "import os\n",
        "import random\n",
        "\n",
        "import numpy as np\n",
        "\n",
        "\n",
        "def seed_everything(seed: int = 42):\n",
        "    random.seed(seed)\n",
        "    np.random.seed(seed)\n",
        "    os.environ[\"PYTHONHASHSEED\"] = str(seed)\n",
        "    # tf.random.set_seed(seed)\n",
        "seed_everything()"
      ]
    },
    {
      "cell_type": "code",
      "execution_count": null,
      "metadata": {},
      "outputs": [],
      "source": []
    },
    {
      "cell_type": "markdown",
      "metadata": {
        "id": "A4wkVlIehLur"
      },
      "source": [
        "Попробуйте создать свои ячейки, написать какой-нибудь код и текст какой-нибудь формулой."
      ]
    },
    {
      "cell_type": "code",
      "execution_count": 3,
      "metadata": {
        "id": "BIuaYSvqhLus"
      },
      "outputs": [
        {
          "name": "stdout",
          "output_type": "stream",
          "text": [
            "0\n",
            "1\n"
          ]
        }
      ],
      "source": [
        "for i in range(2):\n",
        "    print(i)"
      ]
    },
    {
      "cell_type": "markdown",
      "metadata": {
        "id": "iWs6ljrIhLus"
      },
      "source": [
        "[Здесь](https://athena.brynmawr.edu/jupyter/hub/dblank/public/Jupyter%20Notebook%20Users%20Manual.ipynb) находится <s>не</s>большая заметка о используемом языке разметки Markdown. Он позволяет:\n",
        "\n",
        "0. Составлять упорядоченные списки\n",
        "1. Выделять *текст* <s>при</s> **необходимости**\n",
        "2. Добавлять [ссылки](http://imgs.xkcd.com/comics/the_universal_label.png)\n",
        "\n",
        "\n",
        "* Составлять неупорядоченные списки\n",
        "\n",
        "Делать вставки с помощью LaTex:\n",
        "    \n",
        "$\n",
        "\\left\\{\n",
        "\\begin{array}{ll}\n",
        "x = 16 \\sin^3 (t) \\\\\n",
        "y = 13 \\cos (t) - 5 \\cos (2t) - 2 \\cos (3t) - \\cos (4t) \\\\\n",
        "t \\in [0, 2 \\pi]\n",
        "\\end{array}\n",
        "\\right.$"
      ]
    },
    {
      "cell_type": "markdown",
      "metadata": {
        "id": "6fmTGcXOhLus"
      },
      "source": [
        "А ещё можно вставлять картинки, или гифки, или что захотите:\n",
        "\n",
        "<img src=\"https://media1.tenor.com/images/9b8fbe9214504bcf6c60fe4e4f7e114e/tenor.gif?itemid=5416416\" style=\"width: 400px\">"
      ]
    },
    {
      "cell_type": "markdown",
      "metadata": {
        "id": "sUe2vnFGhLuu"
      },
      "source": [
        "## 1. Табличные данные и Pandas"
      ]
    },
    {
      "cell_type": "markdown",
      "metadata": {
        "id": "DJQzjjqJhLuu"
      },
      "source": [
        "Pandas — удобная библиотека для работы с табличными данными в Python, если данных не слишком много и они помещаются в оперативную память вашего компьютера. Несмотря на неэффективность реализации и некоторые проблемы, библиотека стала стандартом в анализе данных.\n",
        "\n",
        "Основной объект в pandas — это DataFrame, представляющий собой таблицу с именованными колонками различных типов, индексом (может быть многоуровневым). DataFrame можно создавать, считывая таблицу из файла или задавая вручную из других объектов. **Дефакто** в самом коде объект DataFrame принято называть **df**\n",
        "\n",
        "В этой части потребуется выполнить несколько небольших заданий. Можно пойти двумя путями: сначала изучить материалы, а потом приступить к заданиям, или же разбираться \"по ходу\". Выбирайте сами.\n",
        "\n",
        "Материалы:\n",
        "1. [Pandas за 10 минут из официального руководства](http://pandas.pydata.org/pandas-docs/stable/10min.html)\n",
        "2. [Документация](http://pandas.pydata.org/pandas-docs/stable/index.html) (стоит обращаться, если не понятно, как вызывать конкретный метод)\n",
        "3. [Примеры использования функционала](http://nbviewer.jupyter.org/github/justmarkham/pandas-videos/blob/master/pandas.ipynb)\n",
        "\n",
        "Многие из заданий можно выполнить несколькими способами. Не существуют единственно верного, но попробуйте максимально задействовать арсенал pandas и ориентируйтесь на простоту и понятность вашего кода. Мы не будем подсказывать, что нужно использовать для решения конкретной задачи, попробуйте находить необходимый функционал сами (название метода чаще всего очевидно). В помощь вам документация, поиск и stackoverflow."
      ]
    },
    {
      "cell_type": "markdown",
      "metadata": {
        "id": "dneJl9TyhLuv"
      },
      "source": [
        "Скачаем данные:"
      ]
    },
    {
      "cell_type": "code",
      "execution_count": 4,
      "metadata": {
        "id": "rj_I0RslhLuw"
      },
      "outputs": [],
      "source": [
        "!wget  -O 'end_seminar.xlsx' -q 'https://www.dropbox.com/s/f4rm8sjc3v99p0m/_end_seminar.xlsx?dl=0'"
      ]
    },
    {
      "cell_type": "markdown",
      "metadata": {
        "id": "VFs_6IythLux"
      },
      "source": [
        "##### В первой части задания (до раздела \"Распределение студентов по курсам\") **использование циклов запрещается** и повлечет за собой снижение оценки. Использование <code>vectorize</code> и  <code>apply</code>, <code>apply_along_axis</code> крайне нежелательно."
      ]
    },
    {
      "cell_type": "markdown",
      "metadata": {
        "id": "shFkfJkohLux"
      },
      "source": [
        "Для каждой задачи из этого раздела вы должны написать код для получения ответа, а также дать текстовый ответ, если он предполагается.\n",
        "\n",
        "На некоторые вопросы вы можете получить путём пристального взгляда на таблицу, но это не будет засчитываться. Вы в любом случае должны получить ответ с помощью кода."
      ]
    },
    {
      "cell_type": "markdown",
      "metadata": {
        "id": "gDD85M7bhLux"
      },
      "source": [
        "#### 1. Откройте файл с таблицей (не забудьте про её формат). Выведите последние 10 строк.\n",
        "\n",
        "Посмотрите на данные и скажите, что они из себя представляют, сколько в таблице строк, какие столбцы? (на это не надо отвечать, просто подумайте об этом)"
      ]
    },
    {
      "cell_type": "code",
      "execution_count": 5,
      "metadata": {
        "colab": {
          "base_uri": "https://localhost:8080/",
          "height": 898
        },
        "id": "if3C4FkVDJ_z",
        "outputId": "242d56ea-d1cd-44eb-b4a9-21966160efad"
      },
      "outputs": [],
      "source": [
        "# !pip install openpyxl~=3.0.9 pandas~=1.3.5 matplotlib~=3.5.3"
      ]
    },
    {
      "cell_type": "code",
      "execution_count": 6,
      "metadata": {
        "id": "PKulur3LhLuy"
      },
      "outputs": [],
      "source": [
        "import pandas as pd\n",
        "\n",
        "data = pd.read_excel(\"end_seminar.xlsx\")# your code"
      ]
    },
    {
      "cell_type": "markdown",
      "metadata": {
        "id": "Jhk3tVpVhLuy"
      },
      "source": [
        "#### 2. Ответьте на вопросы (0.5 балла):\n",
        "1. Сколько было заявок из групп 18-го года набора, а сколько из групп 17-го года?\n",
        "2. Есть ли студенты с равными перцентилями?"
      ]
    },
    {
      "cell_type": "code",
      "execution_count": 7,
      "metadata": {
        "id": "bsn4vn8RhLuy"
      },
      "outputs": [
        {
          "data": {
            "text/plain": [
              "18    223\n",
              "17    138\n",
              "Name: year_recruit, dtype: int64"
            ]
          },
          "execution_count": 7,
          "metadata": {},
          "output_type": "execute_result"
        }
      ],
      "source": [
        "df = data\n",
        "df[\"recruit_18\"] = ~df[\"18_group\"].isna()\n",
        "df[\"recruit_17\"] = ~df[\"17_group\"].isna()\n",
        "df['year_recruit'] = df.recruit_18.map({True:18, False:17}) \n",
        "df.year_recruit.value_counts()"
      ]
    },
    {
      "cell_type": "markdown",
      "metadata": {},
      "source": [
        "Ответ: Заявок 18 года - 223, 17 года - 138"
      ]
    },
    {
      "cell_type": "code",
      "execution_count": 8,
      "metadata": {},
      "outputs": [],
      "source": [
        "df_doubled = df.copy()\n",
        "df = df.groupby('id').last()\n",
        "p = df.reset_index()[['percentile','id']]\n"
      ]
    },
    {
      "cell_type": "code",
      "execution_count": 9,
      "metadata": {},
      "outputs": [
        {
          "data": {
            "text/html": [
              "<div>\n",
              "<style scoped>\n",
              "    .dataframe tbody tr th:only-of-type {\n",
              "        vertical-align: middle;\n",
              "    }\n",
              "\n",
              "    .dataframe tbody tr th {\n",
              "        vertical-align: top;\n",
              "    }\n",
              "\n",
              "    .dataframe thead th {\n",
              "        text-align: right;\n",
              "    }\n",
              "</style>\n",
              "<table border=\"1\" class=\"dataframe\">\n",
              "  <thead>\n",
              "    <tr style=\"text-align: right;\">\n",
              "      <th></th>\n",
              "      <th>percentile</th>\n",
              "      <th>id_x</th>\n",
              "      <th>id_y</th>\n",
              "    </tr>\n",
              "  </thead>\n",
              "  <tbody>\n",
              "    <tr>\n",
              "      <th>67</th>\n",
              "      <td>0.0</td>\n",
              "      <td>3a7326c9e355a67d3805824ca34c4bc5</td>\n",
              "      <td>3e106aaef8b24dbb01319c73e14c2936</td>\n",
              "    </tr>\n",
              "    <tr>\n",
              "      <th>68</th>\n",
              "      <td>0.0</td>\n",
              "      <td>3e106aaef8b24dbb01319c73e14c2936</td>\n",
              "      <td>3a7326c9e355a67d3805824ca34c4bc5</td>\n",
              "    </tr>\n",
              "  </tbody>\n",
              "</table>\n",
              "</div>"
            ],
            "text/plain": [
              "    percentile                              id_x  \\\n",
              "67         0.0  3a7326c9e355a67d3805824ca34c4bc5   \n",
              "68         0.0  3e106aaef8b24dbb01319c73e14c2936   \n",
              "\n",
              "                                id_y  \n",
              "67  3e106aaef8b24dbb01319c73e14c2936  \n",
              "68  3a7326c9e355a67d3805824ca34c4bc5  "
            ]
          },
          "execution_count": 9,
          "metadata": {},
          "output_type": "execute_result"
        }
      ],
      "source": [
        "merged = p.merge(p, left_on='percentile', right_on='percentile')\n",
        "merged[merged.id_x!=merged.id_y]"
      ]
    },
    {
      "cell_type": "markdown",
      "metadata": {},
      "source": [
        "Ответ: С равными перецнтилями два студента"
      ]
    },
    {
      "cell_type": "markdown",
      "metadata": {
        "id": "jPiMwyqHhLuy"
      },
      "source": [
        "#### 3. Есть ли в данных пропуски? В каких колонках? Сколько их в каждой из этих колонок? (0.5 балла)"
      ]
    },
    {
      "cell_type": "code",
      "execution_count": 10,
      "metadata": {
        "id": "edY1RrSOhLuy"
      },
      "outputs": [
        {
          "data": {
            "text/plain": [
              "timestamp          0\n",
              "rating             0\n",
              "18_group         134\n",
              "is_mi            331\n",
              "fall_1             0\n",
              "fall_2             0\n",
              "fall_3             0\n",
              "spring_1           0\n",
              "spring_2           0\n",
              "spring_3           0\n",
              "is_first_time      2\n",
              "percentile         0\n",
              "17_group         213\n",
              "blended          213\n",
              "is_ml_student    291\n",
              "recruit_18         0\n",
              "recruit_17         0\n",
              "year_recruit       0\n",
              "dtype: int64"
            ]
          },
          "execution_count": 10,
          "metadata": {},
          "output_type": "execute_result"
        }
      ],
      "source": [
        "df.isna().sum()"
      ]
    },
    {
      "cell_type": "markdown",
      "metadata": {},
      "source": [
        "Ответ: пропуски 213 в blended, 291 в is_ml_student, 331 в is_mi"
      ]
    },
    {
      "cell_type": "markdown",
      "metadata": {
        "id": "B5ORhP2uhLuz"
      },
      "source": [
        "Заполните пропуски пустой строкой для строковых колонок и нулём для числовых."
      ]
    },
    {
      "cell_type": "code",
      "execution_count": 11,
      "metadata": {},
      "outputs": [
        {
          "data": {
            "text/plain": [
              "Index(['timestamp', 'rating', '18_group', 'is_mi', 'fall_1', 'fall_2',\n",
              "       'fall_3', 'spring_1', 'spring_2', 'spring_3', 'is_first_time',\n",
              "       'percentile', '17_group', 'blended', 'is_ml_student', 'recruit_18',\n",
              "       'recruit_17', 'year_recruit'],\n",
              "      dtype='object')"
            ]
          },
          "execution_count": 11,
          "metadata": {},
          "output_type": "execute_result"
        }
      ],
      "source": [
        "df.columns"
      ]
    },
    {
      "cell_type": "code",
      "execution_count": 12,
      "metadata": {
        "id": "TlF_JJ2ghLuz"
      },
      "outputs": [],
      "source": [
        "df.is_mi = df.is_mi.fillna(0)\n",
        "df.blended = df.blended.fillna('')\n",
        "df.is_ml_student = df.is_ml_student.fillna(0)\n",
        "df['18_group'] = df['18_group'].fillna(0)\n",
        "df['17_group'] = df['17_group'].fillna(0)\n",
        "df.is_first_time.fillna(\"\", inplace=True)"
      ]
    },
    {
      "cell_type": "markdown",
      "metadata": {
        "id": "w5ELhkT1hLuz"
      },
      "source": [
        "#### 4. Посмотрите повнимательнее на колонку 'is_first_time' (0.5 балла)\n",
        "\n",
        "Есть ли в ней ответы \"Нет\"? Сколько их?\n",
        "\n",
        "Если вы найдете повторные обращения студентов, оставьте только самую позднюю версию. <i>Обращения со значением \"Нет\" в <code>is_first_time</code> могут быть как повторными, так и первичными, поскольку поле заполняли сами студенты.</i>"
      ]
    },
    {
      "cell_type": "markdown",
      "metadata": {},
      "source": [
        "Ответ: сделано ранее"
      ]
    },
    {
      "cell_type": "markdown",
      "metadata": {
        "id": "IlzHp3HVhLuz"
      },
      "source": [
        "#### 5. Какие  blended-курсы для четверокурсников существуют? На какой blended-курс записалось наибольшее количество студентов? На каком из курсов собрались студенты с самым высоким средним рейтингом? (0.5 балла)"
      ]
    },
    {
      "cell_type": "code",
      "execution_count": 13,
      "metadata": {
        "id": "j_BRWerHhLu0"
      },
      "outputs": [
        {
          "data": {
            "text/plain": [
              "DevOps                                   87\n",
              "Соревновательный анализ данных           32\n",
              "Введение в дифференциальную геометрию    15\n",
              "Name: blended, dtype: int64"
            ]
          },
          "execution_count": 13,
          "metadata": {},
          "output_type": "execute_result"
        }
      ],
      "source": [
        "bl = df.blended.value_counts()\n",
        "bl = bl[bl.index!='']\n",
        "bl"
      ]
    },
    {
      "cell_type": "markdown",
      "metadata": {},
      "source": [
        "Ответ: DevOps, Соревновательный анализ данных, Введение в дифференциальную геометрию  \n",
        "Наибольшее число записалось на DevOps"
      ]
    },
    {
      "cell_type": "code",
      "execution_count": 14,
      "metadata": {},
      "outputs": [
        {
          "name": "stdout",
          "output_type": "stream",
          "text": [
            "1154.17 1144.22 1210.73\n"
          ]
        }
      ],
      "source": [
        "grade4 = df[df.blended!='']\n",
        "print(\n",
        "    grade4[grade4.blended == 'DevOps'].rating.mean().round(2),\n",
        "    grade4[grade4.blended == 'Соревновательный анализ данных'].rating.mean().round(2),\n",
        "    grade4[grade4.blended == 'Введение в дифференциальную геометрию'].rating.mean().round(2)\n",
        ")"
      ]
    },
    {
      "cell_type": "markdown",
      "metadata": {},
      "source": [
        "Ответ: самый высокий средний балл у студентов курса Введение в дифференциальную геометрию  "
      ]
    },
    {
      "cell_type": "markdown",
      "metadata": {
        "id": "IU_FLt8HhLu0"
      },
      "source": [
        "#### 6. Выясните, есть ли в данных студенты с абсолютно одинаковыми предпочтениями по всем курсам (не забудьте учесть blended-курсы для четверокурсников). Сколько таких наборов, которые взяли несколько студентов? Выведите их все вместе с количеством выбравших их студентов (1 балл)\n",
        "\n",
        "<i>Предпочтения двух студентов считаются абсолютно одинаковыми, если выбранные ими дисциплины имеют одинаковый приоритет.</i>"
      ]
    },
    {
      "cell_type": "code",
      "execution_count": 15,
      "metadata": {},
      "outputs": [
        {
          "data": {
            "text/plain": [
              "Index(['timestamp', 'rating', '18_group', 'is_mi', 'fall_1', 'fall_2',\n",
              "       'fall_3', 'spring_1', 'spring_2', 'spring_3', 'is_first_time',\n",
              "       'percentile', '17_group', 'blended', 'is_ml_student', 'recruit_18',\n",
              "       'recruit_17', 'year_recruit'],\n",
              "      dtype='object')"
            ]
          },
          "execution_count": 15,
          "metadata": {},
          "output_type": "execute_result"
        }
      ],
      "source": [
        "df.columns"
      ]
    },
    {
      "cell_type": "code",
      "execution_count": 16,
      "metadata": {
        "id": "BBDlR1mFhLu0"
      },
      "outputs": [],
      "source": [
        "sub_cols = ['fall_1', 'fall_2',\n",
        "       'fall_3', 'spring_1', 'spring_2', 'spring_3','blended']\n",
        "subjects = df[sub_cols]\n",
        "duplicates = subjects.duplicated()\n",
        "duplicates = duplicates[duplicates]"
      ]
    },
    {
      "cell_type": "code",
      "execution_count": 17,
      "metadata": {},
      "outputs": [
        {
          "data": {
            "text/plain": [
              "fall_1                                           fall_2                                           fall_3                                           spring_1                                                spring_2                                     spring_3                                     blended\n",
              "Безопасность компьютерных систем                 Statistical Learning Theory                      Матричные вычисления                             Дискретная оптимизация                                  Промышленное программирование на языке Java  Дополнительные главы прикладной статистики              2\n",
              "                                                 Высокопроизводительные вычисления                Язык SQL                                         Компьютерные сети                                       Промышленное программирование на языке Java  Дискретная оптимизация                                  2\n",
              "Statistical Learning Theory                      Анализ неструктурированных данных                Сбор и обработка данных с помощью краудсорсинга  Обучение с подкреплением                                Конфликты и кооперация                       Компьютерное зрение                          DevOps     1\n",
              "Байесовские методы машинного обучения            Анализ неструктурированных данных                Глубинное обучение в обработке звука             Обучение с подкреплением                                Генеративные модели в машинном обучении      Компьютерное зрение                          DevOps     1\n",
              "                                                                                                  Сбор и обработка данных с помощью краудсорсинга  Обучение с подкреплением                                Компьютерное зрение                          Генеративные модели в машинном обучении      DevOps     1\n",
              "Безопасность компьютерных систем                 Высокопроизводительные вычисления                Анализ неструктурированных данных                Проектирование и разработка высоконагруженных сервисов  Методы сжатия и передачи медиаданных         Конфликты и кооперация                       DevOps     1\n",
              "                                                                                                  Язык SQL                                         Промышленное программирование на языке Java             Компьютерные сети                            Системы баз данных                                      1\n",
              "                                                 Матричные вычисления                             Моделирование временных рядов                    Промышленное программирование на языке Java             Компьютерные сети                            Дискретная оптимизация                                  1\n",
              "                                                 Сбор и обработка данных с помощью краудсорсинга  Матричные вычисления                             Компьютерные сети                                       Промышленное программирование на языке Java  Анализ данных в бизнесе                                 1\n",
              "                                                 Теория баз данных                                Язык SQL                                         Машинное обучение 2                                     Компьютерные сети                            Промышленное программирование на языке Java             1\n",
              "Высокопроизводительные вычисления                Безопасность компьютерных систем                 Сбор и обработка данных с помощью краудсорсинга  Проектирование и разработка высоконагруженных сервисов  Методы сжатия и передачи медиаданных         Компьютерное зрение                          DevOps     1\n",
              "                                                 Сбор и обработка данных с помощью краудсорсинга  Моделирование временных рядов                    Проектирование и разработка высоконагруженных сервисов  Методы сжатия и передачи медиаданных         Методы сжатия и передачи медиаданных         DevOps     1\n",
              "Моделирование временных рядов                    Сбор и обработка данных с помощью краудсорсинга  Безопасность компьютерных систем                 Компьютерные сети                                       Дополнительные главы прикладной статистики   Системы баз данных                                      1\n",
              "Сбор и обработка данных с помощью краудсорсинга  Язык SQL                                         Теория баз данных                                Промышленное программирование на языке Java             Машинное обучение 2                          Компьютерные сети                                       1\n",
              "Язык SQL                                         Высокопроизводительные вычисления                Теория баз данных                                Компьютерные сети                                       Промышленное программирование на языке Java  Дискретная оптимизация                                  1\n",
              "dtype: int64"
            ]
          },
          "execution_count": 17,
          "metadata": {},
          "output_type": "execute_result"
        }
      ],
      "source": [
        "df.loc[duplicates.index][sub_cols].value_counts()"
      ]
    },
    {
      "cell_type": "markdown",
      "metadata": {},
      "source": [
        "Ответ: таких курсов 14"
      ]
    },
    {
      "cell_type": "markdown",
      "metadata": {
        "id": "spu3r3vchLu0"
      },
      "source": [
        "#### 7. Найдите курсы по выбору, на которые записывались как студенты 18-го года набора, так и студенты 17-го года (0.5 балла)"
      ]
    },
    {
      "cell_type": "code",
      "execution_count": 18,
      "metadata": {},
      "outputs": [
        {
          "data": {
            "text/plain": [
              "{'Statistical Learning Theory',\n",
              " 'Безопасность компьютерных систем',\n",
              " 'Высокопроизводительные вычисления',\n",
              " 'Моделирование временных рядов',\n",
              " 'Принятие решений в условиях риска и неопределённости',\n",
              " 'Сбор и обработка данных с помощью краудсорсинга',\n",
              " 'Численные методы'}"
            ]
          },
          "execution_count": 18,
          "metadata": {},
          "output_type": "execute_result"
        }
      ],
      "source": [
        "chosen_by_18 = set(df[df.recruit_18][sub_cols].stack().unique())\n",
        "chosen_by_17 = set(df[df.recruit_17][sub_cols].stack().unique())\n",
        "chosen_by_18 & chosen_by_17"
      ]
    },
    {
      "cell_type": "markdown",
      "metadata": {
        "id": "PYfX-Dr5hLu0"
      },
      "source": [
        "Методом исключения найдите курсы, которые предлагались только студентам 18-го года и только студентам 17-го года."
      ]
    },
    {
      "cell_type": "code",
      "execution_count": 19,
      "metadata": {
        "id": "G9SWBOpehLu1"
      },
      "outputs": [
        {
          "data": {
            "text/plain": [
              "{'',\n",
              " 'Анализ данных в бизнесе',\n",
              " 'Дискретная оптимизация',\n",
              " 'Дополнительные главы прикладной статистики',\n",
              " 'Компьютерные сети',\n",
              " 'Матричные вычисления',\n",
              " 'Машинное обучение 2',\n",
              " 'Промышленное программирование на языке Java',\n",
              " 'Системы баз данных',\n",
              " 'Теория баз данных',\n",
              " 'Язык SQL'}"
            ]
          },
          "execution_count": 19,
          "metadata": {},
          "output_type": "execute_result"
        }
      ],
      "source": [
        "chosen_by_18 - chosen_by_17"
      ]
    },
    {
      "cell_type": "code",
      "execution_count": 20,
      "metadata": {},
      "outputs": [
        {
          "data": {
            "text/plain": [
              "{'DevOps',\n",
              " 'Анализ неструктурированных данных',\n",
              " 'Байесовские методы машинного обучения',\n",
              " 'Введение в дифференциальную геометрию',\n",
              " 'Генеративные модели в машинном обучении',\n",
              " 'Глубинное обучение в обработке звука',\n",
              " 'Компьютерное зрение',\n",
              " 'Конфликты и кооперация',\n",
              " 'Методы сжатия и передачи медиаданных',\n",
              " 'Обучение с подкреплением',\n",
              " 'Проектирование и разработка высоконагруженных сервисов',\n",
              " 'Символьные вычисления',\n",
              " 'Соревновательный анализ данных'}"
            ]
          },
          "execution_count": 20,
          "metadata": {},
          "output_type": "execute_result"
        }
      ],
      "source": [
        "chosen_by_17 - chosen_by_18\n"
      ]
    },
    {
      "cell_type": "markdown",
      "metadata": {
        "id": "uL45Tg5fhLu1"
      },
      "source": [
        "### Визуализации и matplotlib"
      ]
    },
    {
      "cell_type": "markdown",
      "metadata": {
        "id": "MY9lKmP2hLu1"
      },
      "source": [
        "При работе с данными часто неудобно делать какие-то выводы, если смотреть на таблицу и числа в частности, поэтому важно уметь визуализировать данные. Здесь будут описаны ключевые правила оформления графиков для **всех** домашних заданий.\n",
        "\n",
        "У matplotlib, конечно же, есть [документация](https://matplotlib.org/users/index.html) с большим количеством [примеров](https://matplotlib.org/examples/), но для начала достаточно знать про несколько основных типов графиков:\n",
        "- plot — обычный поточечный график, которым можно изображать кривые или отдельные точки;\n",
        "- hist — гистограмма, показывающая распределение некоторой величины;\n",
        "- scatter — график, показывающий взаимосвязь двух величин;\n",
        "- bar — столбцовый график, показывающий взаимосвязь количественной величины от категориальной.\n",
        "\n",
        "В этом задании вы попробуете построить один из них. Не забывайте про базовые принципы построения приличных графиков:\n",
        "- оси должны быть подписаны, причём не слишком мелко;\n",
        "- у графика должно быть название;\n",
        "- если изображено несколько графиков, то необходима поясняющая легенда;\n",
        "- все линии на графиках должны быть чётко видны (нет похожих цветов или цветов, сливающихся с фоном);\n",
        "- если отображена величина, имеющая очевидный диапазон значений (например, проценты могут быть от 0 до 100), то желательно масштабировать ось на весь диапазон значений (исключением является случай, когда вам необходимо показать малое отличие, которое незаметно в таких масштабах);\n",
        "- сетка на графике помогает оценить значения в точках на глаз, это обычно полезно, поэтому лучше ее отрисовывать;\n",
        "- если распределение на гистограмме имеет тяжёлые хвосты, лучше использовать логарифмическую шкалу.\n",
        "\n",
        "Полезные строчки:\n",
        "- для красивой картинки <code>%config InlineBackend.figure_format = 'retina'</code>\n",
        "- задаем размер (почти) всех графиков (можно выбрать другие значения) <code>plt.rcParams['figure.figsize'] = 8, 5</code>\n",
        "- размер шрифта подписей графиков <code>plt.rcParams['font.size'] = 12</code>\n",
        "- формат в котором сохраняется изображение <code>mpl.rcParams['savefig.format'] = 'pdf'</code>\n",
        "- sns – seaborn, добавляет решетку <code>sns.set_style('darkgrid')</code>"
      ]
    },
    {
      "cell_type": "code",
      "execution_count": 21,
      "metadata": {
        "id": "na9doUOFhLu1"
      },
      "outputs": [],
      "source": [
        "import matplotlib.pyplot as plt\n",
        "import matplotlib as mpl"
      ]
    },
    {
      "cell_type": "markdown",
      "metadata": {
        "id": "kikwLpxfhLu1"
      },
      "source": [
        "#### 8. Постройте график средних рейтингов по дням получения ответов (bar plot) (0.5 балла)."
      ]
    },
    {
      "cell_type": "code",
      "execution_count": 22,
      "metadata": {},
      "outputs": [],
      "source": [
        "df['day'] = df.timestamp.dt.date\n",
        "avg_rate_by_day = df.groupby('day')['rating'].mean()"
      ]
    },
    {
      "cell_type": "code",
      "execution_count": 23,
      "metadata": {
        "id": "UTPLVeQvhLu2"
      },
      "outputs": [
        {
          "data": {
            "image/png": "[encoded data removed]",
            "text/plain": [
              "<Figure size 640x480 with 1 Axes>"
            ]
          },
          "metadata": {
            "image/png": {
              "height": 507,
              "width": 589
            }
          },
          "output_type": "display_data"
        }
      ],
      "source": [
        "%config InlineBackend.figure_format = 'retina'\n",
        "import matplotlib.pyplot as plt\n",
        "\n",
        "avg_rate_by_day.plot(kind='bar')\n",
        "plt.xlabel('Date')\n",
        "plt.ylabel('Average Rating')\n",
        "plt.title('Average Rating per Day')\n",
        "\n",
        "plt.rcParams['figure.figsize'] = 8, 5\n",
        "plt.rcParams['font.size'] = 13\n",
        "plt.xticks(rotation=45)\n",
        "\n",
        "plt.show()"
      ]
    },
    {
      "cell_type": "markdown",
      "metadata": {
        "id": "AmsQg9_xhLu2"
      },
      "source": [
        "Сохраните график в формате pdf (так он останется векторизованным)."
      ]
    },
    {
      "cell_type": "code",
      "execution_count": 24,
      "metadata": {
        "id": "vKZNSwWghLu2"
      },
      "outputs": [
        {
          "data": {
            "text/plain": [
              "<Figure size 800x500 with 0 Axes>"
            ]
          },
          "metadata": {},
          "output_type": "display_data"
        }
      ],
      "source": [
        "mpl.rcParams['savefig.format'] = 'pdf'\n",
        "plt.savefig(\"image.pdf\", format=\"pdf\")\n",
        "plt.show()"
      ]
    },
    {
      "cell_type": "markdown",
      "metadata": {
        "id": "b7SBV6_GhLu2"
      },
      "source": [
        "Еще одна билиотека для визуализации: [seaborn](https://jakevdp.github.io/PythonDataScienceHandbook/04.14-visualization-with-seaborn.html). Это настройка над matplotlib, иногда удобнее и красивее делать визуализации через неё."
      ]
    },
    {
      "cell_type": "markdown",
      "metadata": {
        "id": "sCgWwjl0hLu2"
      },
      "source": [
        "# 2. Распределение студентов по курсам."
      ]
    },
    {
      "cell_type": "markdown",
      "metadata": {
        "id": "VNqXUpr4hLu3"
      },
      "source": [
        "Теперь вам нужно распределить студентов по осенним курсам по выбору, учитывая их предпочтения."
      ]
    },
    {
      "cell_type": "markdown",
      "metadata": {
        "id": "5cAR2FgphLu3"
      },
      "source": [
        "Алгоритм распределения студентов по курсам:\n",
        "1. По умолчанию на каждой дисциплине по выбору у 3 и 4 курсов может учиться 1 группа (до 30 студентов). Исключения описаны ниже. На blended-дисциплинах для четверокурсников количество мест не ограничено.\n",
        "2. Проводится первая волна отбора. Для каждой дисциплины формируется список тех, кто указал её первым приоритетом (если студент должен выбрать два курса по выбору, то для него дисциплины, которые он указал первым и вторым приоритетом, рассматриваются как дисциплины первого приоритета). Если желающих больше, чем мест, то выбирается топ по перцентилю рейтинга.\n",
        "3. На дисциплинах, где остались места после первой волны, формируются списки тех, кто выбрал их вторым приоритетом, и места заполняются лучшими по перцентили рейтинга студентами. После этого проводится такая же процедура для дисциплин третьего приоритета.\n",
        "4. Если студент не попал на необходимое количество курсов по итогам трёх волн, с ним связывается учебный офис и решает вопрос в индивидуальном порядке."
      ]
    },
    {
      "cell_type": "markdown",
      "metadata": {
        "id": "BiNKVwS6hLu3"
      },
      "source": [
        "Обращаем ваше внимание на следующие детали:\n",
        "\n",
        "- По умолчанию студент выбирает один осенний и один весенний курс по выбору, а также четверокурсники выбирают один blended-курс. Студенты групп 17-го года специализаций МОП и ТИ выбирают по 2 осенних и 2 весенних курса по выбору, также студенты групп 18' специализации МИ выбирают 2 осенних курса. <i>Для студентов, которые выбирают 2 курса (например, осенних) первый приоритет — <code>fall_1</code> и <code>fall_2</code>, второй приоритет — <code>fall_3</code>. Такие студенты участвуют только в двух волнах отбора</i>.\n",
        "\n",
        "- Студенты специализации МОП не могут выбрать весенним курсом по выбору Машинное обучение 2. <i>Если студент специализации МОП выбрал Машинное обучение 2, то его приоритеты сдвигаются. Из-за совпадений первого и второго курса по выбору двигать приоритеты не надо</i>.\n",
        "\n",
        "- Blended-курсы не трогайте, по ним не надо распределять, на другие курсы они никак не влияют.\n",
        "\n",
        "- Постарайтесь воздержаться от использования циклов там, где это возможно. <i>Допустимо итерироваться по <b>курсам</b>, на которые проводится отбор, и по <b>волнам</b> отбора. Если вы придумаете, как обойтись и без этих циклов, то на усмотрение проверяющего могут быть добавлены бонусные баллы. <b>Дублирование кода не признается успешным избавлением от циклов</b></i>\n",
        "\n",
        "- На выходе ожидается файл res_fall.csv с результатами распределения на осенние курсы по выбору. Файл должен быть следующего формата:\n",
        "\n",
        "    * три столбца: ID, course1, course2\n",
        "    \n",
        "    * Если студент не попал на курс, но должен был, то вместо названия курса в ячейке должна быть строка \"???\"\n",
        "    \n",
        "    * Если студент должен выбрать только один курс, то в колонке course2 для него должна стоять строка \"-\"\n",
        "    \n",
        "    * Если студент должен выбрать два курса по выбору, то порядок в колонках course1 и course2 не важен.\n",
        "    \n",
        "    * Формат csv: для сохранения воспользуйтесь df.to_csv('solution.csv', index=None)\n",
        "    \n",
        "\n",
        "Для работы вам могут понадобиться следующие данные:\n",
        "\n",
        "- Результаты опроса (вы уже использовали этот файл в первой части задания, но на всякий случай ссылка: https://www.dropbox.com/s/f4rm8sjc3v99p0m/_end_seminar.xlsx?dl=0)\n",
        "\n",
        "- Соответствие номеров групп специализациям:\n",
        "\n",
        "    * 171, 172 - МОП; 173 - ТИ; 174 — АДИС; 175, 176 — РС; 177 — АПР\n",
        "    \n",
        "    * У студентов 18-го года номера групп соответствуют номерам до распределения по специализациям.\n",
        "\n",
        "- Ограничения по количеству мест на курсах по выбору:\n",
        "\n",
        "    * Осенние: везде 30 мест, кроме Statistical Learning Theory (60 мест), Высокопроизводительных вычислений (60 мест), Анализа неструктурированных данных ($\\infty$ мест)\n",
        "\n",
        "    * Весенние: везде 30 мест, кроме Обучения с подкреплением (60 мест), Анализа данных в бизнесе (60 мест).\n",
        "\n",
        "\n",
        "Кстати, убедитесь, что в данных больше нет пропусков и повторных записей."
      ]
    },
    {
      "cell_type": "markdown",
      "metadata": {
        "id": "o5t55IcQhLu4"
      },
      "source": [
        "#### 0. Проверка\n",
        "\n",
        "Для начала давайте убедимся, что вы успешно выполнили задания первой части и проверим ваши данные на наличие пропусков и повторов:"
      ]
    },
    {
      "cell_type": "code",
      "execution_count": 25,
      "metadata": {
        "id": "34HWEdVdhLu4"
      },
      "outputs": [],
      "source": [
        "# не удаляйте этот код, и вообще любой, который здесь уже написан -- он нужен для проверки ваших решений\n",
        "assert df.shape[0] == 347, 'В таблице остались повторы или потеряны данные'\n",
        "\n",
        "assert df.isna().sum().sum() == 0, 'В таблице остались пропуски'"
      ]
    },
    {
      "cell_type": "markdown",
      "metadata": {
        "id": "_ImUFyG3hLu4"
      },
      "source": [
        "Если вы не получили AssertionError, то можете продолжать."
      ]
    },
    {
      "cell_type": "markdown",
      "metadata": {
        "id": "LTGSwwvAhLu4"
      },
      "source": [
        "#### 1. Создайте новый признак, обозначающий, сколько осенних курсов должен выбрать студент (1 балл)\n",
        "\n",
        "В этом вам может помочь информация о специализации и группе студента."
      ]
    },
    {
      "cell_type": "code",
      "execution_count": 26,
      "metadata": {
        "id": "ouxo0kHFhLu4"
      },
      "outputs": [],
      "source": [
        "def course_count(application):\n",
        "    if (application['is_mi'] == 1) and (application['18_group'] > 0):\n",
        "        return 2\n",
        "    elif (application['17_group'] in [171,172,173]):\n",
        "        return 2\n",
        "    return 1\n",
        "\n",
        "df['crs_cnt'] = df[['18_group', 'is_mi', '17_group']].apply(course_count, axis=1)\n",
        "df_crs_cnt = df.copy()\n",
        "df = df.reset_index()"
      ]
    },
    {
      "cell_type": "markdown",
      "metadata": {
        "id": "S47aq1sQhLu4"
      },
      "source": [
        "Проверка:"
      ]
    },
    {
      "cell_type": "code",
      "execution_count": 27,
      "metadata": {
        "id": "OlOgzDKDhLu5"
      },
      "outputs": [],
      "source": [
        "col_name = 'crs_cnt'    # insert your new column name as str\n",
        "\n",
        "assert(df[df['id'] == '2662600c2c37e11e62f6ee0b88452f22'][col_name] == 2).all()\n",
        "assert(df[df['id'] == 'd555d2805e1d93d4f023e57dc4c8f403'][col_name] == 2).all()\n",
        "assert(df[df['id'] == '8fe79f84f36e3a5d2d6745621321302c'][col_name] == 1).all()\n",
        "assert(df[df['id'] == 'e4caca755ee0bdd711e18fb8084958b5'][col_name] == 1).all()"
      ]
    },
    {
      "cell_type": "markdown",
      "metadata": {
        "id": "rEEQdWlKo9LU"
      },
      "source": []
    },
    {
      "cell_type": "markdown",
      "metadata": {
        "id": "VtQYhwuPhLu5"
      },
      "source": [
        "#### 2. Распределите студентов в соответствии с первым приоритетом (2 балла)"
      ]
    },
    {
      "cell_type": "code",
      "execution_count": 28,
      "metadata": {
        "id": "6gWfT3vqhLu5"
      },
      "outputs": [],
      "source": [
        "unique_courses_fall = df[['fall_1', 'fall_2','fall_3']].stack().unique()\n",
        "# Создадим вспомогательный df для подсчета мест на курсах\n",
        "df_unique_courses_fall = pd.DataFrame({'course': unique_courses_fall})\n",
        "\n",
        "df_unique_courses_fall['limit'] = 30\n",
        "df_unique_courses_fall['students_number'] = 0\n",
        "\n",
        "df_unique_courses_fall.loc[df_unique_courses_fall['course'] == 'Statistical Learning Theory', 'limit'] = 60\n",
        "df_unique_courses_fall.loc[df_unique_courses_fall['course'] == 'Высокопроизводительные вычисления', 'limit'] = 60\n",
        "df_unique_courses_fall.loc[df_unique_courses_fall['course'] == 'Анализ неструктурированных данных', 'limit'] = 9999\n",
        "# df_unique_courses_fall"
      ]
    },
    {
      "cell_type": "code",
      "execution_count": 29,
      "metadata": {},
      "outputs": [],
      "source": [
        "# counter[counter.course == 'Высокопроизводительные вычисления'].students_number"
      ]
    },
    {
      "cell_type": "code",
      "execution_count": 30,
      "metadata": {},
      "outputs": [
        {
          "data": {
            "text/plain": [
              "True"
            ]
          },
          "execution_count": 30,
          "metadata": {},
          "output_type": "execute_result"
        }
      ],
      "source": [
        "bool(pd.Series([1]).values>pd.Series([0]).values)"
      ]
    },
    {
      "cell_type": "code",
      "execution_count": 34,
      "metadata": {},
      "outputs": [],
      "source": [
        "counter = df_unique_courses_fall.copy()\n",
        "\n",
        "\n",
        "def handle_only_one_crs(row):\n",
        "    row['course2'] = '-'\n",
        "    if (counter.loc[counter['course'] == row['fall_1'], 'students_number'].values <\n",
        "            counter.loc[counter['course'] == row['fall_1'], 'limit'].values):\n",
        "        counter.loc[counter['course'] == row['fall_1'], 'students_number'] += 1\n",
        "        row['course1'] = row['fall_1']\n",
        "\n",
        "        if counter.loc[counter['course'] == row['fall_1'], 'students_number'].values == 1:\n",
        "            row['is_first_place'] = True\n",
        "\n",
        "\n",
        "def handle_fst_crs(row):\n",
        "    if counter.loc[counter['course'] == row['fall_1'], 'students_number'].values < \\\n",
        "            counter.loc[counter['course'] == row['fall_1'], 'limit'].values:\n",
        "        counter.loc[counter['course'] == row['fall_1'], 'students_number'] += 1\n",
        "        row['course1'] = row['fall_1']\n",
        "\n",
        "        if counter.loc[counter['course'] == row['fall_1'], 'students_number'].values == 1:\n",
        "            row['is_first_place'] = True\n",
        "\n",
        "\n",
        "def handle_snd_crs(row):\n",
        "    if counter.loc[counter['course'] == row['fall_2'], 'students_number'].values < \\\n",
        "            counter.loc[counter['course'] == row['fall_2'], 'limit'].values:\n",
        "        counter.loc[counter['course'] ==\n",
        "                    row['fall_2'], 'students_number'] += 1\n",
        "        if row['course1'] == '':\n",
        "            row['course1'] = row['fall_2']\n",
        "        else:\n",
        "            row['course2'] = row['fall_2']\n",
        "\n",
        "        if counter.loc[counter['course'] == row['fall_2'], 'students_number'].values == 1:\n",
        "            row['is_first_place'] = True\n",
        "\n",
        "\n",
        "def first_wave(row):\n",
        "    '''\n",
        "    Работает с датасетом, отсортированным по 'procentile'\n",
        "    Обновляет temp_count_table\n",
        "    Возвращает строку с выбранными предметами, если есть места\n",
        "    '''\n",
        "    if (row['crs_cnt'] == 1):\n",
        "        handle_only_one_crs(row)\n",
        "    else:\n",
        "        handle_fst_crs(row)\n",
        "        handle_snd_crs(row)\n",
        "    return row"
      ]
    },
    {
      "cell_type": "code",
      "execution_count": 35,
      "metadata": {},
      "outputs": [
        {
          "data": {
            "text/plain": [
              "-3899393585393080790"
            ]
          },
          "execution_count": 35,
          "metadata": {},
          "output_type": "execute_result"
        }
      ],
      "source": [
        "# Добавить колонки course1 и course2\n",
        "import numpy as np\n",
        "\n",
        "\n",
        "df['course1'] = ''\n",
        "df['course2'] = ''\n",
        "\n",
        "df['is_first_place'] = np.nan\n",
        "df['is_last_place'] = np.nan\n",
        "\n",
        "# Отсортируем строки по percentile\n",
        "df = df.sort_values(by='percentile', ascending=True)\n",
        "df_first = df.apply(first_wave, axis=1)\n",
        "# df_first.head()\n",
        "hash(str(df_first.values))"
      ]
    },
    {
      "cell_type": "code",
      "execution_count": 33,
      "metadata": {},
      "outputs": [
        {
          "ename": "Exception",
          "evalue": "-3899393585393080790",
          "output_type": "error",
          "traceback": [
            "\u001b[0;31m---------------------------------------------------------------------------\u001b[0m",
            "\u001b[0;31mException\u001b[0m                                 Traceback (most recent call last)",
            "Cell \u001b[0;32mIn[33], line 1\u001b[0m\n\u001b[0;32m----> 1\u001b[0m \u001b[38;5;28;01mraise\u001b[39;00m \u001b[38;5;167;01mException\u001b[39;00m(\u001b[38;5;28mhash\u001b[39m(\u001b[38;5;28mstr\u001b[39m(df_first\u001b[38;5;241m.\u001b[39mvalues)))\n",
            "\u001b[0;31mException\u001b[0m: -3899393585393080790"
          ]
        }
      ],
      "source": [
        "raise Exception(hash(str(df_first.values)))"
      ]
    },
    {
      "cell_type": "markdown",
      "metadata": {
        "id": "vc5zXP5hhLu5"
      },
      "source": [
        "Здесь для проверки приведена таблица, в которой есть 2 дополнительные колонки:\n",
        "    \n",
        "    1) is_first_place - является ли студент лучшим по перцентили хотя бы на одном из курсов, куда он был зачислен\n",
        "    (True / NaN)\n",
        "    \n",
        "    2) is_last_place  - является ли студент худшим по перцентили хотя бы на одном из курсов, куда он был зачислен (True / NaN)"
      ]
    },
    {
      "cell_type": "code",
      "execution_count": null,
      "metadata": {
        "id": "uZTkGEq5hLu5"
      },
      "outputs": [],
      "source": [
        "!wget  -O '2_task_check.csv' -q 'https://www.dropbox.com/s/v8o2zzq3iz5gc9w/_2_task_check.csv?dl=0'\n",
        "check_df = pd.read_csv('2_task_check.csv')"
      ]
    },
    {
      "cell_type": "markdown",
      "metadata": {
        "id": "E_fbyB9qhLu5"
      },
      "source": [
        "После распределения студентов в соответствии с первым приоритетом добавьте в свой датафрейм аналогичные признаки и запустите проверку:"
      ]
    },
    {
      "cell_type": "code",
      "execution_count": null,
      "metadata": {
        "id": "GOAzQeYehLu6"
      },
      "outputs": [
        {
          "ename": "SyntaxError",
          "evalue": "invalid syntax (259308031.py, line 1)",
          "output_type": "error",
          "traceback": [
            "\u001b[0;36m  Cell \u001b[0;32mIn[153], line 1\u001b[0;36m\u001b[0m\n\u001b[0;31m    fir_col_name =       # insert name of your new column with is_first_place as str\u001b[0m\n\u001b[0m                         ^\u001b[0m\n\u001b[0;31mSyntaxError\u001b[0m\u001b[0;31m:\u001b[0m invalid syntax\n"
          ]
        }
      ],
      "source": [
        "fir_col_name =       # insert name of your new column with is_first_place as str\n",
        "last_col_name =      # insert name of your new column with is_last_place as str\n",
        "\n",
        "\n",
        "assert((df[df[fir_col_name].isna() == False][['id']].sort_values('id').reset_index(drop=True)\n",
        "        ==\n",
        "        check_df[check_df['is_first_place'].isna() == False][['id']].sort_values('id').reset_index(drop=True)\n",
        "       ).id.values).all()\n",
        "\n",
        "\n",
        "assert((df[df[last_col_name].isna() == False][['id']].sort_values('id').reset_index(drop=True)\n",
        "       ==\n",
        "       check_df[check_df['is_last_place'].isna() == False][['id']].sort_values('id').reset_index(drop=True)\n",
        "      ).id.values).all()"
      ]
    },
    {
      "cell_type": "markdown",
      "metadata": {
        "id": "RO6DwNNFhLu6"
      },
      "source": [
        "#### 3. Проведите все три волны отбора студентов на курсы по выбору (3 балла)"
      ]
    },
    {
      "cell_type": "code",
      "execution_count": null,
      "metadata": {
        "id": "jn2OOrLjhLu6"
      },
      "outputs": [],
      "source": [
        "# (￣^￣)ゞ"
      ]
    }
  ],
  "metadata": {
    "colab": {
      "provenance": []
    },
    "kernelspec": {
      "display_name": "Python 3",
      "language": "python",
      "name": "python3"
    },
    "language_info": {
      "codemirror_mode": {
        "name": "ipython",
        "version": 3
      },
      "file_extension": ".py",
      "mimetype": "text/x-python",
      "name": "python",
      "nbconvert_exporter": "python",
      "pygments_lexer": "ipython3",
      "version": "3.10.12"
    },
    "varInspector": {
      "cols": {
        "lenName": 16,
        "lenType": 16,
        "lenVar": 40
      },
      "kernels_config": {
        "python": {
          "delete_cmd_postfix": "",
          "delete_cmd_prefix": "del ",
          "library": "var_list.py",
          "varRefreshCmd": "print(var_dic_list())"
        },
        "r": {
          "delete_cmd_postfix": ") ",
          "delete_cmd_prefix": "rm(",
          "library": "var_list.r",
          "varRefreshCmd": "cat(var_dic_list()) "
        }
      },
      "types_to_exclude": [
        "module",
        "function",
        "builtin_function_or_method",
        "instance",
        "_Feature"
      ],
      "window_display": false
    }
  },
  "nbformat": 4,
  "nbformat_minor": 0
}
